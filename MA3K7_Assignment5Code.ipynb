{
  "nbformat": 4,
  "nbformat_minor": 0,
  "metadata": {
    "colab": {
      "provenance": []
    },
    "kernelspec": {
      "name": "python3",
      "display_name": "Python 3"
    },
    "language_info": {
      "name": "python"
    }
  },
  "cells": [
    {
      "cell_type": "code",
      "execution_count": 4,
      "metadata": {
        "id": "1q0cFd5BQUuO"
      },
      "outputs": [],
      "source": [
        "import numpy as np\n",
        "import matplotlib.pyplot as plt\n",
        "import math"
      ]
    },
    {
      "cell_type": "code",
      "source": [
        "n = 20\n",
        "\n",
        "moves = [[0,1], [-1, 0], [0,-1], [1, 0]]\n",
        "directions = [\"right\", \"up\", \"left\", \"down\"]\n",
        "cDir = 0\n",
        "\n",
        "start_x = int((n-1)/2)\n",
        "start_y = int((n-1)/2)\n",
        "\n",
        "x = start_x + 1\n",
        "y = start_y\n",
        "\n",
        "spiral = np.zeros([n,n])\n",
        "\n",
        "spiral[start_y, start_x] = 1\n",
        "spiral[start_y, start_x + 1] = 2\n",
        "\n",
        "for i in range(3,n**2 + 1):\n",
        "  cur_move = moves[cDir]\n",
        "  adj_move = moves[(cDir + 1) % 4]\n",
        "  adj_x = x + adj_move[1]\n",
        "  adj_y = y + adj_move[0]\n",
        "\n",
        "  if spiral[adj_y, adj_x] == 0:\n",
        "    x = adj_x\n",
        "    y = adj_y\n",
        "    cDir = (cDir + 1) % 4\n",
        "  else:\n",
        "    x = x + cur_move[1]\n",
        "    y = y + cur_move[0]\n",
        "\n",
        "  spiral[y,x] = i\n",
        "\n",
        "\n",
        "print(spiral)"
      ],
      "metadata": {
        "colab": {
          "base_uri": "https://localhost:8080/"
        },
        "id": "1DzvdqmdQaVI",
        "outputId": "cc3aa820-a360-4cfc-98c9-b8661fa11291"
      },
      "execution_count": 3,
      "outputs": [
        {
          "output_type": "stream",
          "name": "stdout",
          "text": [
            "[[325. 324. 323. 322. 321. 320. 319. 318. 317. 316. 315. 314. 313. 312.\n",
            "  311. 310. 309. 308. 307. 380.]\n",
            " [326. 257. 256. 255. 254. 253. 252. 251. 250. 249. 248. 247. 246. 245.\n",
            "  244. 243. 242. 241. 306. 379.]\n",
            " [327. 258. 197. 196. 195. 194. 193. 192. 191. 190. 189. 188. 187. 186.\n",
            "  185. 184. 183. 240. 305. 378.]\n",
            " [328. 259. 198. 145. 144. 143. 142. 141. 140. 139. 138. 137. 136. 135.\n",
            "  134. 133. 182. 239. 304. 377.]\n",
            " [329. 260. 199. 146. 101. 100.  99.  98.  97.  96.  95.  94.  93.  92.\n",
            "   91. 132. 181. 238. 303. 376.]\n",
            " [330. 261. 200. 147. 102.  65.  64.  63.  62.  61.  60.  59.  58.  57.\n",
            "   90. 131. 180. 237. 302. 375.]\n",
            " [331. 262. 201. 148. 103.  66.  37.  36.  35.  34.  33.  32.  31.  56.\n",
            "   89. 130. 179. 236. 301. 374.]\n",
            " [332. 263. 202. 149. 104.  67.  38.  17.  16.  15.  14.  13.  30.  55.\n",
            "   88. 129. 178. 235. 300. 373.]\n",
            " [333. 264. 203. 150. 105.  68.  39.  18.   5.   4.   3.  12.  29.  54.\n",
            "   87. 128. 177. 234. 299. 372.]\n",
            " [334. 265. 204. 151. 106.  69.  40.  19.   6.   1.   2.  11.  28.  53.\n",
            "   86. 127. 176. 233. 298. 371.]\n",
            " [335. 266. 205. 152. 107.  70.  41.  20.   7.   8.   9.  10.  27.  52.\n",
            "   85. 126. 175. 232. 297. 370.]\n",
            " [336. 267. 206. 153. 108.  71.  42.  21.  22.  23.  24.  25.  26.  51.\n",
            "   84. 125. 174. 231. 296. 369.]\n",
            " [337. 268. 207. 154. 109.  72.  43.  44.  45.  46.  47.  48.  49.  50.\n",
            "   83. 124. 173. 230. 295. 368.]\n",
            " [338. 269. 208. 155. 110.  73.  74.  75.  76.  77.  78.  79.  80.  81.\n",
            "   82. 123. 172. 229. 294. 367.]\n",
            " [339. 270. 209. 156. 111. 112. 113. 114. 115. 116. 117. 118. 119. 120.\n",
            "  121. 122. 171. 228. 293. 366.]\n",
            " [340. 271. 210. 157. 158. 159. 160. 161. 162. 163. 164. 165. 166. 167.\n",
            "  168. 169. 170. 227. 292. 365.]\n",
            " [341. 272. 211. 212. 213. 214. 215. 216. 217. 218. 219. 220. 221. 222.\n",
            "  223. 224. 225. 226. 291. 364.]\n",
            " [342. 273. 274. 275. 276. 277. 278. 279. 280. 281. 282. 283. 284. 285.\n",
            "  286. 287. 288. 289. 290. 363.]\n",
            " [343. 344. 345. 346. 347. 348. 349. 350. 351. 352. 353. 354. 355. 356.\n",
            "  357. 358. 359. 360. 361. 362.]\n",
            " [400. 399. 398. 397. 396. 395. 394. 393. 392. 391. 390. 389. 388. 387.\n",
            "  386. 385. 384. 383. 382. 381.]]\n"
          ]
        }
      ]
    },
    {
      "cell_type": "code",
      "source": [
        "def GetCoords(v):\n",
        "  n = math.ceil((math.sqrt(v) - 1)/2)\n",
        "\n",
        "  d = (2*n+1)**2 - v\n",
        "\n",
        "  rp = d // (2*n)\n",
        "  of = d % (2*n )\n",
        "\n",
        "  if (rp == 0):\n",
        "    return n - of, -n\n",
        "  elif (rp == 1):\n",
        "    return -n, -(n-of)\n",
        "  elif (rp == 2):\n",
        "    return -(n - of), n\n",
        "  else:\n",
        "    return n, n-of"
      ],
      "metadata": {
        "id": "jF2TnHgT4mqB"
      },
      "execution_count": 52,
      "outputs": []
    },
    {
      "cell_type": "code",
      "source": [
        "def GetVal(x,y):\n",
        "  n = max(x,y)\n",
        "  diff = 0\n",
        "\n",
        "  if (y == -n):\n",
        "    diff = -x + n\n",
        "  elif (x == -n):\n",
        "    diff = y + 3*n\n",
        "  elif (y == n):\n",
        "    diff = x + 5*n\n",
        "  elif (x == n):\n",
        "    diff = -y + 7*n\n",
        "\n",
        "  return (2*n+1)**2 - diff"
      ],
      "metadata": {
        "id": "OZfNLqIC6KBR"
      },
      "execution_count": 7,
      "outputs": []
    },
    {
      "cell_type": "code",
      "source": [
        "print(GetVal(-8,9))"
      ],
      "metadata": {
        "colab": {
          "base_uri": "https://localhost:8080/"
        },
        "id": "SHu5QIJc9cor",
        "outputId": "a5924751-2ecf-4908-94d7-70e42c1c23e9"
      },
      "execution_count": 50,
      "outputs": [
        {
          "output_type": "stream",
          "name": "stdout",
          "text": [
            "324\n"
          ]
        }
      ]
    },
    {
      "cell_type": "code",
      "source": [
        "print(GetCoords(200))"
      ],
      "metadata": {
        "colab": {
          "base_uri": "https://localhost:8080/"
        },
        "id": "qtC-sp0G9Gad",
        "outputId": "81272ebc-5bb6-4dee-8768-006d82dbbc33"
      },
      "execution_count": 53,
      "outputs": [
        {
          "output_type": "stream",
          "name": "stdout",
          "text": [
            "(-7, 4)\n"
          ]
        }
      ]
    }
  ]
}